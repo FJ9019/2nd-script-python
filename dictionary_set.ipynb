{
 "cells": [
  {
   "cell_type": "code",
   "execution_count": 1,
   "metadata": {},
   "outputs": [
    {
     "name": "stdout",
     "output_type": "stream",
     "text": [
      "Jerry\n",
      "Fenelus Jr\n",
      "34\n"
     ]
    }
   ],
   "source": [
    "#Les Dictionnaires\n",
    "d = {\"nom\": \"Jerry\", \"prenom\": \"Fenelus\", \"age\": 34}\n",
    "d1 = dict.copy(d)\n",
    "d1[\"prenom\"] = \"Fenelus Jr\"\n",
    "#d1.clea()\n",
    "\n",
    "vals = d1.values()"
   ]
  }
 ],
 "metadata": {
  "kernelspec": {
   "display_name": "Python 3",
   "language": "python",
   "name": "python3"
  },
  "language_info": {
   "codemirror_mode": {
    "name": "ipython",
    "version": 3
   },
   "file_extension": ".py",
   "mimetype": "text/x-python",
   "name": "python",
   "nbconvert_exporter": "python",
   "pygments_lexer": "ipython3",
   "version": "3.13.0"
  }
 },
 "nbformat": 4,
 "nbformat_minor": 2
}
