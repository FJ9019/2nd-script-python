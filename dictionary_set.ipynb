{
 "cells": [
  {
   "cell_type": "code",
   "execution_count": 1,
   "metadata": {},
   "outputs": [
    {
     "name": "stdout",
     "output_type": "stream",
     "text": [
      "Jerry\n",
      "Fenelus Jr\n",
      "34\n"
     ]
    }
   ],
   "source": [
    "#Les Dictionnaires\n",
    "d = {\"nom\": \"Jerry\", \"prenom\": \"Fenelus\", \"age\": 34}\n",
    "d1 = dict.copy(d)\n",
    "d1[\"prenom\"] = \"Fenelus Jr\"\n",
    "#d1.clea()\n",
    "\n",
    "vals = d1.values()"
   ]
  },
  {
   "cell_type": "code",
   "execution_count": 6,
   "metadata": {},
   "outputs": [
    {
     "name": "stdout",
     "output_type": "stream",
     "text": [
      "8\n"
     ]
    },
    {
     "data": {
      "text/plain": [
       "{'Bendjina',\n",
       " 'Darlie',\n",
       " 'Dule',\n",
       " 'Elodie',\n",
       " 'Jeff',\n",
       " 'Jerry',\n",
       " 'Linlin',\n",
       " 'Michel',\n",
       " 'Miss',\n",
       " 'Rachide',\n",
       " 'Sonson',\n",
       " 'Wendy'}"
      ]
     },
     "execution_count": 6,
     "metadata": {},
     "output_type": "execute_result"
    }
   ],
   "source": [
    "#Set\n",
    "names = [\"Rachide\", \"Jerry\", \"Bendjina\", \"Jeff\", \"Wendy\", \"Jerry\", \"Dule\", \"Miss\"]\n",
    "print(len(names))\n",
    "\n",
    "s = set(names)\n",
    "\n",
    "s.add(\"Linlin\")\n",
    "s1 = {\"Sonson\", \"Darlie\", \"Elodie\", \"Michel\"}\n",
    "\n",
    "s.union(s1)\n",
    "\n",
    "s.difference(s1)\n",
    "# s.difference_update(s1)\n",
    "\n",
    "s.intersection(s1)\n",
    "\n",
    "dir(dict)"
   ]
  }
 ],
 "metadata": {
  "kernelspec": {
   "display_name": "Python 3",
   "language": "python",
   "name": "python3"
  },
  "language_info": {
   "codemirror_mode": {
    "name": "ipython",
    "version": 3
   },
   "file_extension": ".py",
   "mimetype": "text/x-python",
   "name": "python",
   "nbconvert_exporter": "python",
   "pygments_lexer": "ipython3",
   "version": "3.13.0"
  }
 },
 "nbformat": 4,
 "nbformat_minor": 2
}
